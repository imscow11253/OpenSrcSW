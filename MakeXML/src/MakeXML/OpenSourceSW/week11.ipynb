{
 "cells": [
  {
   "cell_type": "code",
   "execution_count": 3,
   "id": "d840f3c8",
   "metadata": {},
   "outputs": [
    {
     "name": "stdout",
     "output_type": "stream",
     "text": [
      "명령어를 입력하시오: cp C:\\Users\\LG\\Desktop\\1.txt C:\\Users\\LG\\Desktop\\2.txt\n"
     ]
    }
   ],
   "source": [
    "com = input(\"명령어를 입력하시오: \")\n",
    "com_arr = com.split(\" \")\n",
    "\n",
    "if(com_arr[0] == \"cp\" ):\n",
    "    f1 = open(com_arr[1], 'r', encoding=\"UTF-8\")\n",
    "    f2 = open(com_arr[2], 'w', encoding=\"UTF-8\")\n",
    "    \n",
    "    while 1:\n",
    "        line = f1.readline()\n",
    "        if not line:\n",
    "            break\n",
    "        data = \"{0:s} \\n\".format(line)\n",
    "        f2.write(data)\n",
    "        \n",
    "    f1.close()\n",
    "    f2.close()\n"
   ]
  },
  {
   "cell_type": "code",
   "execution_count": 5,
   "id": "9144b681",
   "metadata": {},
   "outputs": [
    {
     "name": "stdout",
     "output_type": "stream",
     "text": [
      "명령어를 입력하시오: wc C:\\Users\\LG\\Desktop\\1.txt\n",
      "line 수: 4 \n",
      "word 수: 5\n"
     ]
    }
   ],
   "source": [
    "com = input(\"명령어를 입력하시오: \")\n",
    "com_arr = com.split(\" \")\n",
    "\n",
    "if(com_arr[0] == \"wc\"):\n",
    "    f1 = open(com_arr[1], 'r', encoding=\"UTF-8\")\n",
    "    \n",
    "    line_num = 0\n",
    "    word_num = 0\n",
    "    while 1:\n",
    "        line = f1.readline()\n",
    "        \n",
    "        if not line:\n",
    "            break\n",
    "        \n",
    "        line_num += 1\n",
    "        line_arr = line.split(\" \")\n",
    "        word_num += len(line_arr)\n",
    "    \n",
    "    f1.close()\n",
    "    f2.close()\n",
    "    \n",
    "    print(\"line 수: {0:d} \\nword 수: {1:d}\".format(line_num, word_num))\n",
    "            \n",
    "    "
   ]
  },
  {
   "cell_type": "code",
   "execution_count": 10,
   "id": "d2e3dcd4",
   "metadata": {},
   "outputs": [
    {
     "name": "stdout",
     "output_type": "stream",
     "text": [
      "1 + 2 = 3 입니다.\n",
      "5 - 1 = 4 입니다.\n",
      "2 * 3 = 6 입니다.\n",
      "6 / 2 = 3.000000 입니다.\n"
     ]
    }
   ],
   "source": [
    "# -*- coding: cp949 -*-\n",
    "\n",
    "class Calc:\n",
    "    def sum(self, a, b):\n",
    "        result = a + b\n",
    "        print(\"{0:d} + {1:d} = {2:d} 입니다.\".format(a,b,result))\n",
    "    def sub(self, a, b):\n",
    "        result = a - b\n",
    "        print(\"{0:d} - {1:d} = {2:d} 입니다.\".format(a,b,result))\n",
    "    def multi(self, a, b):\n",
    "        result = a * b\n",
    "        print(\"{0:d} * {1:d} = {2:d} 입니다.\".format(a,b,result))\n",
    "    def divi(self, a, b):\n",
    "        result = a / b\n",
    "        print(\"{0:d} / {1:d} = {2:f} 입니다.\".format(a,b,result))\n",
    "\n",
    "calc = Calc()\n",
    "calc.sum(1,2)\n",
    "calc.sub(5,1)\n",
    "calc.multi(2,3)\n",
    "calc.divi(6,2)"
   ]
  },
  {
   "cell_type": "code",
   "execution_count": 1,
   "id": "b7ec7b58",
   "metadata": {},
   "outputs": [
    {
     "name": "stdout",
     "output_type": "stream",
     "text": [
      "계산식을 입력하시오: 1 + 2 - 3 * 4 + 5\n",
      "-4\n"
     ]
    }
   ],
   "source": [
    "class num_stack:\n",
    "\n",
    "    a = []\n",
    "    \n",
    "    def push(self, num):\n",
    "        self.a.append(num)\n",
    "        \n",
    "    def pop(self):\n",
    "        num = self.a.pop()\n",
    "        return num\n",
    "    def getLen(self):\n",
    "        return len(self.a)\n",
    "    def printa(self):\n",
    "        if len(self.a) == 0:\n",
    "            print(\"nothingA\")\n",
    "        else:\n",
    "            for i in self.a:\n",
    "                print(i)\n",
    "    \n",
    "\n",
    "class oper_stack:\n",
    "    b = []\n",
    "     \n",
    "    def push(self, num):\n",
    "        self.b.append(num)\n",
    "                    \n",
    "    def pop(self):\n",
    "        num = self.b.pop()\n",
    "        return num\n",
    "    def getLen(self):\n",
    "        return len(self.b)\n",
    "\n",
    "    def printb(self):\n",
    "        if len(self.b) == 0:\n",
    "            print(\"nothingB\")\n",
    "        else:\n",
    "            for i in self.b:\n",
    "                print(i)\n",
    "    \n",
    "cal = input(\"계산식을 입력하시오: \")\n",
    "cal_arr = cal.split(\" \")\n",
    "\n",
    "num_s = num_stack()\n",
    "oper_s = oper_stack()\n",
    "\n",
    "index = 0\n",
    "\n",
    "for i in cal_arr:\n",
    "    \n",
    "    if(i == '+' or i == '-' or i == '*' or i == '/'):\n",
    "        oper_s.push(i)\n",
    "    else:\n",
    "        num_s.push(i)\n",
    "\n",
    "    if(num_s.getLen() >= 2 and index != len(cal_arr)-1):\n",
    "        if(cal_arr[index+1] == '*' or cal_arr[index+1] == '/' or i == '*' or i == '/'):\n",
    "            index += 1\n",
    "            continue\n",
    "        else:\n",
    "            while(oper_s.getLen() != 0):\n",
    "                b = num_s.pop()\n",
    "                a = num_s.pop()\n",
    "                oper = oper_s.pop()\n",
    "\n",
    "                if oper == '+':\n",
    "                    result = int(a) + int(b)\n",
    "                elif oper == '-':\n",
    "                    result = int(a) - int(b)\n",
    "                elif oper == '*':\n",
    "                    result = int(a) * int(b)\n",
    "                elif oper == '/':\n",
    "                    result = int(a) / int(b)\n",
    "\n",
    "                num_s.push(result)\n",
    "\n",
    "    elif(index == len(cal_arr)-1):\n",
    "        while(oper_s.getLen() != 0):\n",
    "            b = num_s.pop()\n",
    "            a = num_s.pop()\n",
    "            oper = oper_s.pop()\n",
    "\n",
    "            if oper == '+':\n",
    "                result = int(a) + int(b)\n",
    "            elif oper == '-':\n",
    "                result = int(a) - int(b)\n",
    "            elif oper == '*':\n",
    "                result = int(a) * int(b)\n",
    "            elif oper == '/':\n",
    "                result = int(a) / int(b)\n",
    "\n",
    "            num_s.push(result)\n",
    "        \n",
    "    index += 1\n",
    "\n",
    "    \n",
    "print (num_s.pop())\n"
   ]
  },
  {
   "cell_type": "code",
   "execution_count": null,
   "id": "21591736",
   "metadata": {},
   "outputs": [],
   "source": []
  }
 ],
 "metadata": {
  "kernelspec": {
   "display_name": "Python 3",
   "language": "python",
   "name": "python3"
  },
  "language_info": {
   "codemirror_mode": {
    "name": "ipython",
    "version": 3
   },
   "file_extension": ".py",
   "mimetype": "text/x-python",
   "name": "python",
   "nbconvert_exporter": "python",
   "pygments_lexer": "ipython3",
   "version": "3.6.6"
  }
 },
 "nbformat": 4,
 "nbformat_minor": 5
}

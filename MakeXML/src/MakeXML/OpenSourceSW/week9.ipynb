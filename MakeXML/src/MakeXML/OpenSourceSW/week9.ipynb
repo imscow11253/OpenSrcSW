{
 "cells": [
  {
   "cell_type": "code",
   "execution_count": 4,
   "id": "cad962d6",
   "metadata": {},
   "outputs": [
    {
     "name": "stdout",
     "output_type": "stream",
     "text": [
      "x값을 입력하시오: 2\n",
      "25\n"
     ]
    }
   ],
   "source": [
    "x = int(input(\"x값을 입력하시오: \"))\n",
    "y = 3 * (x*x)+(5*x) + 3\n",
    "print(y)"
   ]
  },
  {
   "cell_type": "code",
   "execution_count": 6,
   "id": "dae75d1a",
   "metadata": {},
   "outputs": [
    {
     "name": "stdout",
     "output_type": "stream",
     "text": [
      "반지름을 입력하시오: 10\n",
      "원의 둘레는 62.800이고 원의 넓이는 314.000입니다.\n"
     ]
    }
   ],
   "source": [
    "len = int(input(\"반지름을 입력하시오: \"))\n",
    "pi = 3.14\n",
    "round = pi * len * 2\n",
    "area = pi * (len*len)\n",
    "print(\"원의 둘레는 {0:.3f}이고 원의 넓이는 {1:.3f}입니다.\".format(round, area))"
   ]
  },
  {
   "cell_type": "code",
   "execution_count": null,
   "id": "d2554247",
   "metadata": {},
   "outputs": [],
   "source": []
  }
 ],
 "metadata": {
  "kernelspec": {
   "display_name": "Python 3",
   "language": "python",
   "name": "python3"
  },
  "language_info": {
   "codemirror_mode": {
    "name": "ipython",
    "version": 3
   },
   "file_extension": ".py",
   "mimetype": "text/x-python",
   "name": "python",
   "nbconvert_exporter": "python",
   "pygments_lexer": "ipython3",
   "version": "3.6.6"
  }
 },
 "nbformat": 4,
 "nbformat_minor": 5
}

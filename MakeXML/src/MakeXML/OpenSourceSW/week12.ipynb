{
 "cells": [
  {
   "cell_type": "code",
   "execution_count": 13,
   "id": "1f814641",
   "metadata": {},
   "outputs": [
    {
     "name": "stdout",
     "output_type": "stream",
     "text": [
      "일교차가 가장 큰 날\n",
      " 2020-05-06\n",
      "최저기온이 가장 낮은 날\n",
      " 2020-12-31\n",
      "최고기온이 가장 높은 날\n",
      " 2020-06-22\n"
     ]
    }
   ],
   "source": [
    "import csv\n",
    "\n",
    "f = open(\"seoul.csv\" , 'r', encoding=\"cp949\")\n",
    "data = csv.reader(f, delimiter=',')\n",
    "header = next(data)\n",
    "\n",
    "max_value_list = [999, -999, -999]\n",
    "max_date_list = [\"\", \"\", \"\"]\n",
    "\n",
    "for row in data:\n",
    "    for i in range(3,5):\n",
    "        row[i] = float(row[i])\n",
    "        \n",
    "    if row[3] <= max_value_list[0]:\n",
    "        max_value_list[0] = row[3]\n",
    "        max_date_list[0] = row[0]\n",
    "    if row[4] >= max_value_list[1]:\n",
    "        max_value_list[1] = row[4]\n",
    "        max_date_list[1] = row[0]        \n",
    "    if row[4] - row[3] >= max_value_list[2]:\n",
    "        max_value_list[2] = row[4] - row[3]\n",
    "        max_date_list[2] = row[0]\n",
    "        \n",
    "print(\"일교차가 가장 큰 날\\n\", max_date_list[2])\n",
    "print(\"최저기온이 가장 낮은 날\\n\", max_date_list[0])\n",
    "print(\"최고기온이 가장 높은 날\\n\", max_date_list[1])\n",
    "        \n",
    "        "
   ]
  },
  {
   "cell_type": "code",
   "execution_count": 27,
   "id": "518e0138",
   "metadata": {},
   "outputs": [
    {
     "name": "stdout",
     "output_type": "stream",
     "text": [
      "이용객이 가장 많은 역 순위\n",
      "1 .  강남(2호선) ( 1607275 )\n",
      "2 .  신림(2호선) ( 1419139 )\n",
      "3 .  구로디지털단지(2호선) ( 1293506 )\n",
      "이용객이 가장 적은 역 순위\n",
      "1 .  옥수(경원선) ( 2120 )\n",
      "2 .  굴봉산(경춘선) ( 2194 )\n",
      "3 .  달월(수인선) ( 2432 )\n"
     ]
    }
   ],
   "source": [
    "import csv\n",
    "\n",
    "f = open(\"subwayfee.CSV\", 'r', encoding=\"cp949\")\n",
    "data = csv.reader(f, delimiter = \",\")\n",
    "header = next(data)\n",
    "\n",
    "max_user_dic = {\"fir\":-1, \"sec\":-1, \"thi\":-1}\n",
    "max_station_dic = {\"fir\":\"\", \"sec\":\"\", \"thi\":\"\"}\n",
    "min_user_dic ={\"fir\":100000000000, \"sec\":10000000000000, \"thi\":10000000000000}\n",
    "min_station_dic = {\"fir\":\"\", \"sec\":\"\", \"thi\":\"\"}\n",
    "\n",
    "for row in data:\n",
    "    for i in range(4,8):\n",
    "        if \",\" in row[i]:\n",
    "            new_str = \"\"\n",
    "            str_list = row[i].split(\",\")\n",
    "            for j in str_list:\n",
    "                new_str += j\n",
    "        row[i] = int(new_str)\n",
    "        \n",
    "    user = row[4] + row[6]\n",
    "    \n",
    "    if user >= max_user_dic[\"thi\"]:\n",
    "        if user >= max_user_dic[\"sec\"]:\n",
    "            if user >= max_user_dic[\"fir\"]:\n",
    "                max_user_dic[\"fir\"] = user\n",
    "                max_station_dic[\"fir\"] = row[3] + \"(\" + row[1] + \")\"\n",
    "            else:\n",
    "                max_user_dic[\"sec\"] = user\n",
    "                max_station_dic[\"sec\"] = row[3] + \"(\" + row[1] + \")\"\n",
    "        else:\n",
    "            max_user_dic[\"thi\"] = user\n",
    "            max_station_dic[\"thi\"] = row[3] + \"(\" + row[1] + \")\"\n",
    "                \n",
    "                \n",
    "    if user <= min_user_dic[\"thi\"]:\n",
    "        if user <= min_user_dic[\"sec\"]:\n",
    "            if user <= min_user_dic[\"fir\"]:\n",
    "                min_user_dic[\"fir\"] = user\n",
    "                min_station_dic[\"fir\"] = row[3] + \"(\" + row[1] + \")\"\n",
    "            else:\n",
    "                min_user_dic[\"sec\"] = user\n",
    "                min_station_dic[\"sec\"] = row[3] + \"(\" + row[1] + \")\"\n",
    "        else:\n",
    "            min_user_dic[\"thi\"] = user\n",
    "            min_station_dic[\"thi\"] = row[3] + \"(\" + row[1] + \")\"\n",
    "    \n",
    "print(\"이용객이 가장 많은 역 순위\")\n",
    "print(1, \". \", max_station_dic[\"fir\"], \"(\", max_user_dic[\"fir\"], \")\")\n",
    "print(2, \". \", max_station_dic[\"sec\"], \"(\", max_user_dic[\"sec\"], \")\")\n",
    "print(3, \". \", max_station_dic[\"thi\"], \"(\", max_user_dic[\"thi\"], \")\")\n",
    "print(\"이용객이 가장 적은 역 순위\")\n",
    "print(1, \". \", min_station_dic[\"fir\"], \"(\", min_user_dic[\"fir\"], \")\")\n",
    "print(2, \". \", min_station_dic[\"sec\"], \"(\", min_user_dic[\"sec\"], \")\")\n",
    "print(3, \". \", min_station_dic[\"thi\"], \"(\", min_user_dic[\"thi\"], \")\")"
   ]
  },
  {
   "cell_type": "code",
   "execution_count": null,
   "id": "55db3a36",
   "metadata": {},
   "outputs": [],
   "source": []
  }
 ],
 "metadata": {
  "kernelspec": {
   "display_name": "Python 3",
   "language": "python",
   "name": "python3"
  },
  "language_info": {
   "codemirror_mode": {
    "name": "ipython",
    "version": 3
   },
   "file_extension": ".py",
   "mimetype": "text/x-python",
   "name": "python",
   "nbconvert_exporter": "python",
   "pygments_lexer": "ipython3",
   "version": "3.8.8"
  }
 },
 "nbformat": 4,
 "nbformat_minor": 5
}

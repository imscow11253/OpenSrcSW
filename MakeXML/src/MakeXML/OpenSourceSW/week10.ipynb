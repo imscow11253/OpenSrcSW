{
 "cells": [
  {
   "cell_type": "code",
   "execution_count": 9,
   "id": "a7f8bf62",
   "metadata": {},
   "outputs": [
    {
     "name": "stdout",
     "output_type": "stream",
     "text": [
      "Numbers? 2 65 562 423 3666 145 62 52 00 5 56\n",
      "Max =  3666\n"
     ]
    }
   ],
   "source": [
    "# 실습2\n",
    "\n",
    "number = input(\"Numbers? \")\n",
    "\n",
    "list = number.split(\" \")\n",
    "\n",
    "for i in range(len(list)):\n",
    "    list[i] = int(list[i])\n",
    "    \n",
    "max = 0 \n",
    "for i in range(len(list)):\n",
    "    if list[max] < list[i]:\n",
    "        max = i\n",
    "        \n",
    "print(\"Max = \", list[max])"
   ]
  },
  {
   "cell_type": "code",
   "execution_count": 1,
   "id": "269bd56f",
   "metadata": {},
   "outputs": [
    {
     "name": "stdout",
     "output_type": "stream",
     "text": [
      "abc def  -> 암호화 ->  efg bcd \n",
      "efg bcd   -> 복호화 ->   abc def \n"
     ]
    }
   ],
   "source": [
    "# 실습3\n",
    "\n",
    "password = \"abc def\"\n",
    "\n",
    "list = password.split(\" \")\n",
    "list.reverse()\n",
    "\n",
    "# 암호화\n",
    "realList =[]\n",
    "for i in list:\n",
    "    for j in i:\n",
    "        j = chr(ord(j)+1)\n",
    "        realList.append(j)\n",
    "    realList.append(\" \")\n",
    "    \n",
    "string = \"\"\n",
    "for i in realList:\n",
    "    string = string + i\n",
    "    \n",
    "print(password, \" -> 암호화 -> \", string)\n",
    "\n",
    "# 복호화\n",
    "returnList = string.split(\" \")\n",
    "returnList.reverse()\n",
    "\n",
    "realReturnList = []\n",
    "for i in returnList:\n",
    "    for j in i:\n",
    "        j = chr(ord(j) - 1)\n",
    "        realReturnList.append(j)\n",
    "    realReturnList.append(\" \")\n",
    "\n",
    "returnString =\"\"\n",
    "for i in realReturnList:\n",
    "    returnString = returnString + i\n",
    "\n",
    "print( string, \" -> 복호화 -> \", returnString)\n",
    "\n"
   ]
  },
  {
   "cell_type": "code",
   "execution_count": 4,
   "id": "2587f6ec",
   "metadata": {},
   "outputs": [
    {
     "name": "stdout",
     "output_type": "stream",
     "text": [
      "이름을 입력하시오: ㅋ\n",
      "전화번호를 입력하시오1\n",
      "이름을 입력하시오: ㅌ\n",
      "전화번호를 입력하시오2\n",
      "이름을 입력하시오: ㅊ\n",
      "전화번호를 입력하시오3\n",
      "이름을 입력하시오: ㅍ\n",
      "전화번호를 입력하시오4\n",
      "이름을 입력하시오: ㅠ\n",
      "전화번호를 입력하시오5\n",
      "이름을 입력하시오: ㅜ\n",
      "전화번호를 입력하시오6\n",
      "이름을 입력하시오: ㅡ\n",
      "전화번호를 입력하시오7\n",
      "이름을 입력하시오: ㅁ\n",
      "전화번호를 입력하시오8\n",
      "이름을 입력하시오: ㄴ\n",
      "전화번호를 입력하시오9\n",
      "이름을 입력하시오: ㅇ\n",
      "전화번호를 입력하시오10\n",
      "1. 이름으로 검색하기\n",
      "2. 전화번호로 검색하기\n",
      "3. 종료하기\n",
      "입력하시오: 1\n",
      "이름을 입력하시오: ㅋ\n",
      "1\n",
      "1. 이름으로 검색하기\n",
      "2. 전화번호로 검색하기\n",
      "3. 종료하기\n",
      "입력하시오: 2\n",
      "전화번호를 입력하시오: 5\n",
      "ㅠ\n",
      "1. 이름으로 검색하기\n",
      "2. 전화번호로 검색하기\n",
      "3. 종료하기\n",
      "입력하시오: 2\n",
      "전화번호를 입력하시오: 45\n",
      "1. 이름으로 검색하기\n",
      "2. 전화번호로 검색하기\n",
      "3. 종료하기\n",
      "입력하시오: 2\n",
      "전화번호를 입력하시오: 10\n",
      "ㅇ\n",
      "1. 이름으로 검색하기\n",
      "2. 전화번호로 검색하기\n",
      "3. 종료하기\n",
      "입력하시오: 3\n"
     ]
    }
   ],
   "source": [
    "# 실습4\n",
    "\n",
    "dic = {}\n",
    "\n",
    "for i in range(10):\n",
    "    name = input(\"이름을 입력하시오: \")\n",
    "    tele = input(\"전화번호를 입력하시오\")\n",
    "    dic[name] = tele\n",
    "    \n",
    "while(1):\n",
    "    print(\"1. 이름으로 검색하기\")\n",
    "    print(\"2. 전화번호로 검색하기\")\n",
    "    print(\"3. 종료하기\")\n",
    "    menu = int(input(\"입력하시오: \"))\n",
    "    \n",
    "    if menu == 1:\n",
    "        userName = input(\"이름을 입력하시오: \")\n",
    "        print(dic[userName])\n",
    "    elif menu == 2:\n",
    "        userTele = input(\"전화번호를 입력하시오: \")\n",
    "        for key, value in dic.items():\n",
    "            if value == userTele:\n",
    "                print(key)\n",
    "                break\n",
    "    elif menu == 3:\n",
    "        break\n",
    "    else: \n",
    "        print(\"다시 입력하세요\")"
   ]
  },
  {
   "cell_type": "code",
   "execution_count": null,
   "id": "3f64beba",
   "metadata": {},
   "outputs": [],
   "source": []
  }
 ],
 "metadata": {
  "kernelspec": {
   "display_name": "Python 3",
   "language": "python",
   "name": "python3"
  },
  "language_info": {
   "codemirror_mode": {
    "name": "ipython",
    "version": 3
   },
   "file_extension": ".py",
   "mimetype": "text/x-python",
   "name": "python",
   "nbconvert_exporter": "python",
   "pygments_lexer": "ipython3",
   "version": "3.6.6"
  }
 },
 "nbformat": 4,
 "nbformat_minor": 5
}

{
 "cells": [
  {
   "cell_type": "code",
   "execution_count": 11,
   "id": "df9bfaa9",
   "metadata": {},
   "outputs": [
    {
     "name": "stdout",
     "output_type": "stream",
     "text": [
      "(1,2)\n",
      "(3,4)\n",
      "(4,6)\n"
     ]
    }
   ],
   "source": [
    "class Point:\n",
    "    a = 0\n",
    "    b = 0    \n",
    "    def __init__(self, one, two):\n",
    "        self.a = one\n",
    "        self.b = two\n",
    "        \n",
    "    def show(self):\n",
    "        print(\"({0:d},{1:d})\".format(self.a, self.b))\n",
    "        \n",
    "    def __add__ (self, other):\n",
    "        self.a = self.a + other.a\n",
    "        self.b = self.b + other.b\n",
    "        return self\n",
    "        \n",
    "a = Point(1,2)\n",
    "a.show()\n",
    "\n",
    "b = Point(3,4)\n",
    "b.show()\n",
    "\n",
    "a = a + b\n",
    "a.show()"
   ]
  },
  {
   "cell_type": "code",
   "execution_count": 40,
   "id": "1b993e2d",
   "metadata": {},
   "outputs": [
    {
     "name": "stdout",
     "output_type": "stream",
     "text": [
      "['01', '02', '03', '04', '05', '06', '07']\n",
      "['09', '10', '11', '12', '13', '14', '15']\n",
      "['17', '18', '19', '20', '21', '22', '23']\n"
     ]
    },
    {
     "ename": "StopIteration",
     "evalue": "",
     "output_type": "error",
     "traceback": [
      "\u001b[1;31m---------------------------------------------------------------------------\u001b[0m",
      "\u001b[1;31mStopIteration\u001b[0m                             Traceback (most recent call last)",
      "\u001b[1;32m<ipython-input-40-19ce2b15ed45>\u001b[0m in \u001b[0;36m<module>\u001b[1;34m\u001b[0m\n\u001b[0;32m     17\u001b[0m         \u001b[0mdate\u001b[0m\u001b[1;33m.\u001b[0m\u001b[0mappend\u001b[0m\u001b[1;33m(\u001b[0m\u001b[0mline\u001b[0m\u001b[1;33m[\u001b[0m\u001b[1;36m0\u001b[0m\u001b[1;33m]\u001b[0m\u001b[1;33m.\u001b[0m\u001b[0msplit\u001b[0m\u001b[1;33m(\u001b[0m\u001b[1;34m\"-\"\u001b[0m\u001b[1;33m)\u001b[0m\u001b[1;33m[\u001b[0m\u001b[1;36m2\u001b[0m\u001b[1;33m]\u001b[0m\u001b[1;33m)\u001b[0m\u001b[1;33m\u001b[0m\u001b[0m\n\u001b[0;32m     18\u001b[0m         \u001b[0msum\u001b[0m \u001b[1;33m+=\u001b[0m \u001b[0mfloat\u001b[0m\u001b[1;33m(\u001b[0m\u001b[0mline\u001b[0m\u001b[1;33m[\u001b[0m\u001b[1;36m4\u001b[0m\u001b[1;33m]\u001b[0m\u001b[1;33m)\u001b[0m \u001b[1;33m-\u001b[0m \u001b[0mfloat\u001b[0m\u001b[1;33m(\u001b[0m\u001b[0mline\u001b[0m\u001b[1;33m[\u001b[0m\u001b[1;36m3\u001b[0m\u001b[1;33m]\u001b[0m\u001b[1;33m)\u001b[0m\u001b[1;33m\u001b[0m\u001b[0m\n\u001b[1;32m---> 19\u001b[1;33m         \u001b[0mline\u001b[0m \u001b[1;33m=\u001b[0m \u001b[0mnext\u001b[0m\u001b[1;33m(\u001b[0m\u001b[0mdata\u001b[0m\u001b[1;33m)\u001b[0m\u001b[1;33m\u001b[0m\u001b[0m\n\u001b[0m\u001b[0;32m     20\u001b[0m     \u001b[0mprint\u001b[0m\u001b[1;33m(\u001b[0m\u001b[0mdate\u001b[0m\u001b[1;33m)\u001b[0m\u001b[1;33m\u001b[0m\u001b[0m\n\u001b[0;32m     21\u001b[0m     \u001b[1;32mif\u001b[0m \u001b[0msum\u001b[0m \u001b[1;33m>\u001b[0m \u001b[0mMax\u001b[0m\u001b[1;33m:\u001b[0m\u001b[1;33m\u001b[0m\u001b[0m\n",
      "\u001b[1;31mStopIteration\u001b[0m: "
     ]
    }
   ],
   "source": [
    "import csv\n",
    "\n",
    "f= open(\"seoul.csv\", encoding='cp949')\n",
    "data  = csv.reader(f)\n",
    "header = next(data)\n",
    "\n",
    "Max = 0\n",
    "Max_date_start = \"\"\n",
    "Max_date_finish = \"\"\n",
    "k =1\n",
    "for line in data:\n",
    "    sum = 0\n",
    "    date = []\n",
    "    \n",
    "    for i in range(7):\n",
    "        k+=1\n",
    "        date.append(line[0].split(\"-\")[2])\n",
    "        sum += float(line[4]) - float(line[3])\n",
    "        line = next(data)\n",
    "    print(date)\n",
    "    if sum > Max:\n",
    "        Max = sum\n",
    "        Max_date_start = date[0]\n",
    "        Max_date_finish = date[len(date)-1]\n",
    "\n",
    "print(\"Max Week = {0:d}/{1:s} ~ {2:d}/{3:s}\".format(5, Max_date_start, 5, Max_date_finish))"
   ]
  },
  {
   "cell_type": "code",
   "execution_count": null,
   "id": "c20eaaea",
   "metadata": {},
   "outputs": [],
   "source": [
    "import numpy as np\n",
    "import matplot.pyplot as plt\n",
    "\n"
   ]
  }
 ],
 "metadata": {
  "kernelspec": {
   "display_name": "Python 3",
   "language": "python",
   "name": "python3"
  },
  "language_info": {
   "codemirror_mode": {
    "name": "ipython",
    "version": 3
   },
   "file_extension": ".py",
   "mimetype": "text/x-python",
   "name": "python",
   "nbconvert_exporter": "python",
   "pygments_lexer": "ipython3",
   "version": "3.6.6"
  }
 },
 "nbformat": 4,
 "nbformat_minor": 5
}
